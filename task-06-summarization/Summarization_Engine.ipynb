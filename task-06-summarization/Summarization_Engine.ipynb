{
  "cells": [
    {
      "cell_type": "code",
      "execution_count": 1,
      "metadata": {
        "id": "aw3Yh5o8T2cI"
      },
      "outputs": [],
      "source": [
        "# Step 1: Install dependencies (run in terminal first)\n",
        "# pip install groq langchain pypdf\n",
        "import os\n",
        "from groq import Groq\n",
        "from langchain.text_splitter import RecursiveCharacterTextSplitter\n",
        "from langchain.document_loaders import PyPDFLoader, TextLoader"
      ]
    },
    {
      "cell_type": "code",
      "execution_count": 2,
      "metadata": {},
      "outputs": [],
      "source": [
        "import os\n",
        "from dotenv import load_dotenv\n",
        "\n",
        "# Load environment variables from .env\n",
        "load_dotenv()\n",
        "\n",
        "# Get the API key\n",
        "GROQ_API_KEY = os.getenv(\"GROQ_API_KEY\")"
      ]
    },
    {
      "cell_type": "code",
      "execution_count": 3,
      "metadata": {
        "colab": {
          "base_uri": "https://localhost:8080/",
          "height": 90
        },
        "id": "6rVfSHk6UdYL",
        "outputId": "ce5b9fd7-9188-406a-aa18-59b002bc7646"
      },
      "outputs": [],
      "source": [
        "# Step 3: Load documents from sample_documents folder\n",
        "docs_folder = \"sample_documents/\"\n",
        "docs = []"
      ]
    },
    {
      "cell_type": "code",
      "execution_count": 4,
      "metadata": {
        "colab": {
          "base_uri": "https://localhost:8080/"
        },
        "id": "6dBjHlv7UfP9",
        "outputId": "e6628344-4132-4d5e-bfd4-3250313ff84b"
      },
      "outputs": [
        {
          "name": "stdout",
          "output_type": "stream",
          "text": [
            "✅ Loaded 5 document(s)\n"
          ]
        }
      ],
      "source": [
        "for filename in os.listdir(docs_folder):\n",
        "    filepath = os.path.join(docs_folder, filename)\n",
        "    if filename.lower().endswith(\".pdf\"):\n",
        "        loader = PyPDFLoader(filepath)\n",
        "    elif filename.lower().endswith(\".txt\"):\n",
        "        loader = TextLoader(filepath)\n",
        "    else:\n",
        "        print(f\"Skipping unsupported file type: {filename}\")\n",
        "        continue\n",
        "    docs.extend(loader.load())\n",
        "\n",
        "print(f\"✅ Loaded {len(docs)} document(s)\")"
      ]
    },
    {
      "cell_type": "code",
      "execution_count": 6,
      "metadata": {
        "colab": {
          "base_uri": "https://localhost:8080/"
        },
        "id": "FhbBEUCUUm7x",
        "outputId": "8ac64ff9-4f4b-4d1e-c9a4-9d7a4d7cd67a"
      },
      "outputs": [
        {
          "name": "stdout",
          "output_type": "stream",
          "text": [
            "📄 Total chunks created: 6\n"
          ]
        }
      ],
      "source": [
        "# Step 4: Split documents into chunks\n",
        "text_splitter = RecursiveCharacterTextSplitter(\n",
        "    chunk_size=2000,\n",
        "    chunk_overlap=200\n",
        ")\n",
        "docs_chunks = text_splitter.split_documents(docs)\n",
        "print(f\"📄 Total chunks created: {len(docs_chunks)}\")"
      ]
    },
    {
      "cell_type": "code",
      "execution_count": 15,
      "metadata": {
        "id": "Z6h8xLe8Uob2"
      },
      "outputs": [],
      "source": [
        "# Step 5: Function to summarize text using Groq LLaMA\n",
        "def summarize_with_groq(text):\n",
        "    response = client.chat.completions.create(\n",
        "        model=\"llama-3.3-70b-versatile\",\n",
        "        messages=[\n",
        "            {\n",
        "                \"role\": \"user\",\n",
        "                \"content\": f\"Please summarize the following text in 3 paragraphs:\\n\\n{text}\"\n",
        "            }\n",
        "        ]\n",
        "    )\n",
        "    return response.choices[0].message.content"
      ]
    },
    {
      "cell_type": "code",
      "execution_count": 16,
      "metadata": {
        "colab": {
          "base_uri": "https://localhost:8080/"
        },
        "id": "nM5-B7MpUrLG",
        "outputId": "9985c74d-af54-4b86-8448-cde1d618c3d8"
      },
      "outputs": [
        {
          "name": "stdout",
          "output_type": "stream",
          "text": [
            "⏳ Summarizing chunk 1/6...\n",
            "⏳ Summarizing chunk 2/6...\n",
            "⏳ Summarizing chunk 3/6...\n",
            "⏳ Summarizing chunk 4/6...\n",
            "⏳ Summarizing chunk 5/6...\n",
            "⏳ Summarizing chunk 6/6...\n"
          ]
        }
      ],
      "source": [
        "# Step 6: Summarize each chunk and combine\n",
        "summary_list = []\n",
        "for i, chunk in enumerate(docs_chunks):\n",
        "    print(f\"⏳ Summarizing chunk {i+1}/{len(docs_chunks)}...\")\n",
        "    summary_chunk = summarize_with_groq(chunk.page_content)\n",
        "    summary_list.append(summary_chunk)\n",
        "\n",
        "# Step 7: Combine all summaries into final output\n",
        "final_summary = \"\\n\\n\".join(summary_list)"
      ]
    },
    {
      "cell_type": "code",
      "execution_count": 12,
      "metadata": {
        "collapsed": true,
        "id": "OmYGx3MuUtSU"
      },
      "outputs": [
        {
          "name": "stdout",
          "output_type": "stream",
          "text": [
            "\n",
            "📌 Final Summary saved to final_summary.txt\n",
            "\n",
            "📌 Final Summary Preview:\n",
            "\n",
            "Zoca is currently active and looking to fill a role for a Product Operations Associate. The company is seeking candidates with strong knowledge of Excel and SQL, good communication skills, and strong analytical and problem-solving skills. The role is based in Bangalore and offers a salary range of 4 to 7 LPA. There are two vacancies available, and the company is looking for candidates with 0-2 years of experience and any educational background.\n",
            "\n",
            "The interview process for the role consists of one screening round and two technical rounds. Candidates can find more information about the job description on LinkedIn. The role of a Product Operations Associate is crucial in supporting the operational aspects of a product's lifecycle within an organization. This includes ensuring smooth coordination between product management, engineering, and other departments such as marketing and customer support. The key responsibilities of the role include product data analysis, process optimization, and  ...\n"
          ]
        }
      ],
      "source": [
        "# Step 8: Output final summary\n",
        "output_file = \"final_summary.txt\"\n",
        "with open(output_file, \"w\", encoding=\"utf-8\") as f:\n",
        "    f.write(final_summary)\n",
        "\n",
        "print(f\"\\n📌 Final Summary saved to {output_file}\")\n",
        "print(\"\\n📌 Final Summary Preview:\\n\")\n",
        "print(final_summary[:1000], \"...\")  # Preview first 1000 characters"
      ]
    }
  ],
  "metadata": {
    "colab": {
      "provenance": []
    },
    "kernelspec": {
      "display_name": "Python 3",
      "name": "python3"
    },
    "language_info": {
      "codemirror_mode": {
        "name": "ipython",
        "version": 3
      },
      "file_extension": ".py",
      "mimetype": "text/x-python",
      "name": "python",
      "nbconvert_exporter": "python",
      "pygments_lexer": "ipython3",
      "version": "3.11.9"
    }
  },
  "nbformat": 4,
  "nbformat_minor": 0
}
